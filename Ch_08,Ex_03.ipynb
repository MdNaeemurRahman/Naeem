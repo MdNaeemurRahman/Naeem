{
  "nbformat": 4,
  "nbformat_minor": 0,
  "metadata": {
    "colab": {
      "name": "Ch-08,Ex-03.ipynb",
      "provenance": [],
      "collapsed_sections": [],
      "include_colab_link": true
    },
    "kernelspec": {
      "name": "python3",
      "display_name": "Python 3"
    }
  },
  "cells": [
    {
      "cell_type": "markdown",
      "metadata": {
        "id": "view-in-github",
        "colab_type": "text"
      },
      "source": [
        "<a href=\"https://colab.research.google.com/github/MdNaeemurRahman/Naeem/blob/master/Ch_08%2CEx_03.ipynb\" target=\"_parent\"><img src=\"https://colab.research.google.com/assets/colab-badge.svg\" alt=\"Open In Colab\"/></a>"
      ]
    },
    {
      "cell_type": "markdown",
      "metadata": {
        "id": "eArCVN7t8GyZ",
        "colab_type": "text"
      },
      "source": [
        "Exercise 3: Write a program that uses a while loop to determine how long it takes for an investment to double at a given interest rate. The input will be an annualized interest rate, and the output is the number of years it takes an investment to double. Note: The amount of the initial investment does not matter; you can use \\$1"
      ]
    },
    {
      "cell_type": "markdown",
      "metadata": {
        "id": "IoLdIt9R8NoZ",
        "colab_type": "text"
      },
      "source": [
        "![alt text](https://drive.google.com/uc?id=1Kt3saanM9-PkrX0JXQ1Cf9eDeRAh3UMA)"
      ]
    },
    {
      "cell_type": "code",
      "metadata": {
        "id": "_iq8VVL_8HIw",
        "colab_type": "code",
        "colab": {
          "base_uri": "https://localhost:8080/",
          "height": 70
        },
        "outputId": "dd41470c-aace-4c42-ab89-b23468e002f2"
      },
      "source": [
        "investment = float(input(\"What is the amount of investment: $\"))\n",
        "rate = float(input(\"What is the Interest rate = \")) \n",
        "year = 0\n",
        "value = investment\n",
        "while value < 2 * investment:\n",
        "    value = (1 + rate / 100)*value\n",
        "    year = year + 1\n",
        "#print(\"Time neeeded:\", year,\"Years ;\",  \"New amount would be: $\", value)\n",
        "print(\"AT\", rate, \"% interest the investment will be doubled in\", year ,\"Years and the new amount would be $\", value)\n"
      ],
      "execution_count": 3,
      "outputs": [
        {
          "output_type": "stream",
          "text": [
            "What is the amount of investment: $100\n",
            "What is the Interest rate = 5\n",
            "AT 5.0 % interest the investment will be doubled in 15 Years and the new amount would be $ 207.89281794113688\n"
          ],
          "name": "stdout"
        }
      ]
    }
  ]
}