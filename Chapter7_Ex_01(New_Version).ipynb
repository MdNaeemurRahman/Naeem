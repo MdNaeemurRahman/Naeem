{
  "nbformat": 4,
  "nbformat_minor": 0,
  "metadata": {
    "colab": {
      "name": "Chapter7-Ex-01(New Version).ipynb",
      "provenance": [],
      "include_colab_link": true
    },
    "kernelspec": {
      "name": "python3",
      "display_name": "Python 3"
    }
  },
  "cells": [
    {
      "cell_type": "markdown",
      "metadata": {
        "id": "view-in-github",
        "colab_type": "text"
      },
      "source": [
        "<a href=\"https://colab.research.google.com/github/MdNaeemurRahman/Naeem/blob/master/Chapter7_Ex_01(New_Version).ipynb\" target=\"_parent\"><img src=\"https://colab.research.google.com/assets/colab-badge.svg\" alt=\"Open In Colab\"/></a>"
      ]
    },
    {
      "cell_type": "code",
      "metadata": {
        "id": "c-1XR35FdF4p",
        "colab_type": "code",
        "colab": {
          "base_uri": "https://localhost:8080/",
          "height": 87
        },
        "outputId": "a97d89b8-8f28-4577-e133-3e386a527166"
      },
      "source": [
        "print(\"Wage Calculator\")\n",
        "Hours = int(input(\"How many hour have you worked: \"))\n",
        "Rate = int(input(\"What is the wages rate per hour: \"))\n",
        "#If you want to use decimal unit just replace \"int\" by \"float\"\n",
        "if Hours <= 40:\n",
        "    pay = Rate * Hours\n",
        "    print(\"Pay : $\", pay)\n",
        "else:\n",
        "    pay = (Hours - 40) * (Rate * 1.5) + (40 * Rate)\n",
        "    print(\"Pay : $\", pay)"
      ],
      "execution_count": 2,
      "outputs": [
        {
          "output_type": "stream",
          "text": [
            "Wage Calculator\n",
            "How many hour have you worked: 60\n",
            "What is the wages rate per hour: 4\n",
            "Pay : $ 280.0\n"
          ],
          "name": "stdout"
        }
      ]
    }
  ]
}