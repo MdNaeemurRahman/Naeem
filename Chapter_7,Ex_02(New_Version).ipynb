{
  "nbformat": 4,
  "nbformat_minor": 0,
  "metadata": {
    "colab": {
      "name": "Chapter-7,Ex-02(New Version).ipynb",
      "provenance": [],
      "include_colab_link": true
    },
    "kernelspec": {
      "name": "python3",
      "display_name": "Python 3"
    }
  },
  "cells": [
    {
      "cell_type": "markdown",
      "metadata": {
        "id": "view-in-github",
        "colab_type": "text"
      },
      "source": [
        "<a href=\"https://colab.research.google.com/github/MdNaeemurRahman/Naeem/blob/master/Chapter_7%2CEx_02(New_Version).ipynb\" target=\"_parent\"><img src=\"https://colab.research.google.com/assets/colab-badge.svg\" alt=\"Open In Colab\"/></a>"
      ]
    },
    {
      "cell_type": "code",
      "metadata": {
        "id": "4ab-y95Hj5v-",
        "colab_type": "code",
        "colab": {
          "base_uri": "https://localhost:8080/",
          "height": 70
        },
        "outputId": "50f69cc2-b847-4e5e-de98-587b434a2994"
      },
      "source": [
        "print(\"Grade Evaluator\")\n",
        "Score = int(input(\"What is your score: \"))\n",
        "if Score == 5:\n",
        "    Grade = \"A\"\n",
        "elif Score == 4:\n",
        "    Grade = \"B\"\n",
        "elif Score == 3:\n",
        "    Grade = \"C\"\n",
        "elif Score == 2:\n",
        "    Grade = \"D\"\n",
        "elif Score == 1 or 0:\n",
        "    Grade = \"F\"\n",
        "else:\n",
        "    Grade = \"Null\"\n",
        "    print(\"Please enter ther right value\")\n",
        "print(\"Your Grade is: \", Grade)"
      ],
      "execution_count": 1,
      "outputs": [
        {
          "output_type": "stream",
          "text": [
            "Grade Evaluator\n",
            "What is your score: 4\n",
            "Your Grade is:  B\n"
          ],
          "name": "stdout"
        }
      ]
    }
  ]
}