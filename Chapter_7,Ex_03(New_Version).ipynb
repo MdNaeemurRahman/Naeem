{
  "nbformat": 4,
  "nbformat_minor": 0,
  "metadata": {
    "colab": {
      "name": "Chapter-7,Ex-03(New Version).ipynb",
      "provenance": [],
      "include_colab_link": true
    },
    "kernelspec": {
      "name": "python3",
      "display_name": "Python 3"
    }
  },
  "cells": [
    {
      "cell_type": "markdown",
      "metadata": {
        "id": "view-in-github",
        "colab_type": "text"
      },
      "source": [
        "<a href=\"https://colab.research.google.com/github/MdNaeemurRahman/Naeem/blob/master/Chapter_7%2CEx_03(New_Version).ipynb\" target=\"_parent\"><img src=\"https://colab.research.google.com/assets/colab-badge.svg\" alt=\"Open In Colab\"/></a>"
      ]
    },
    {
      "cell_type": "code",
      "metadata": {
        "id": "2IOpgrLvvNVJ",
        "colab_type": "code",
        "colab": {
          "base_uri": "https://localhost:8080/",
          "height": 87
        },
        "outputId": "1bf363c4-326c-4560-c52a-5314032dcd3c"
      },
      "source": [
        "print(\"Grade Evaluator\")\n",
        "Score = int(input(\"What is your score: \"))\n",
        "if Score >= 90:\n",
        "    Grade = \"A\"\n",
        "    if Score > 100:\n",
        "      Grade = \"Null\"\n",
        "      print(\"Please enter ther right value\")\n",
        "elif Score >= 80:\n",
        "    Grade = \"B\"\n",
        "elif Score >= 70:\n",
        "    Grade = \"C\"\n",
        "elif Score >= 60:\n",
        "    Grade = \"D\"\n",
        "else:\n",
        "    Grade = \"F\"    \n",
        "print(\"Your Grade is: \", Grade)"
      ],
      "execution_count": 16,
      "outputs": [
        {
          "output_type": "stream",
          "text": [
            "Grade Evaluator\n",
            "What is your score: 110\n",
            "Please enter ther right value\n",
            "Your Grade is:  Null\n"
          ],
          "name": "stdout"
        }
      ]
    }
  ]
}