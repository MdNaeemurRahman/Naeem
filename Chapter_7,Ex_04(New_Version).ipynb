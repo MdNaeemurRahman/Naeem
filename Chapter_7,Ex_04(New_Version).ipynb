{
  "nbformat": 4,
  "nbformat_minor": 0,
  "metadata": {
    "colab": {
      "name": "Chapter-7,Ex-04(New Version).ipynb",
      "provenance": [],
      "include_colab_link": true
    },
    "kernelspec": {
      "name": "python3",
      "display_name": "Python 3"
    }
  },
  "cells": [
    {
      "cell_type": "markdown",
      "metadata": {
        "id": "view-in-github",
        "colab_type": "text"
      },
      "source": [
        "<a href=\"https://colab.research.google.com/github/MdNaeemurRahman/Naeem/blob/master/Chapter_7%2CEx_04(New_Version).ipynb\" target=\"_parent\"><img src=\"https://colab.research.google.com/assets/colab-badge.svg\" alt=\"Open In Colab\"/></a>"
      ]
    },
    {
      "cell_type": "markdown",
      "metadata": {
        "id": "KZe-mxfaVAp-",
        "colab_type": "text"
      },
      "source": [
        "A certain college classifies students according to credits earned. A student\n",
        "with less than 7 credits is a Freshman. At least 7 credits are required to be\n",
        "a Sophomore, 16 to be a Junior and 26 to be classified as a Senior. Write a\n",
        "program that calculates class standing from the number of credits earned."
      ]
    },
    {
      "cell_type": "code",
      "metadata": {
        "id": "meEU_OkUU_2i",
        "colab_type": "code",
        "colab": {
          "base_uri": "https://localhost:8080/",
          "height": 70
        },
        "outputId": "3bb2c58f-da61-4c8d-bf1a-b57cff5df60e"
      },
      "source": [
        "print(\"Class Standing Position According to the Credit Earned\")\n",
        "credit = int(input(\"How many credit completed: \"))\n",
        "if credit >= 26:\n",
        "    Class = \"Senior\"\n",
        "elif credit >= 16:\n",
        "    Class = \"Sophomore\"\n",
        "elif credit >= 7:\n",
        "    Class = \"Junior\"\n",
        "else:\n",
        "    Class = \"Freshman\"\n",
        "print(\"Class standing position is: \", Class)"
      ],
      "execution_count": 5,
      "outputs": [
        {
          "output_type": "stream",
          "text": [
            "Class Standing Position According to the Credit Earned\n",
            "How many credit completed: 15\n",
            "Class standing position is:  Junior\n"
          ],
          "name": "stdout"
        }
      ]
    }
  ]
}