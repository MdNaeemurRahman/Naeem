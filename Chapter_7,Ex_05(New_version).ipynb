{
  "nbformat": 4,
  "nbformat_minor": 0,
  "metadata": {
    "colab": {
      "name": "Chapter-7,Ex-05(New version).ipynb",
      "provenance": [],
      "include_colab_link": true
    },
    "kernelspec": {
      "name": "python3",
      "display_name": "Python 3"
    }
  },
  "cells": [
    {
      "cell_type": "markdown",
      "metadata": {
        "id": "view-in-github",
        "colab_type": "text"
      },
      "source": [
        "<a href=\"https://colab.research.google.com/github/MdNaeemurRahman/Naeem/blob/master/Chapter_7%2CEx_05(New_version).ipynb\" target=\"_parent\"><img src=\"https://colab.research.google.com/assets/colab-badge.svg\" alt=\"Open In Colab\"/></a>"
      ]
    },
    {
      "cell_type": "markdown",
      "metadata": {
        "id": "AIEvmZptgTyW",
        "colab_type": "text"
      },
      "source": [
        "The body mass index (BMI) is calculated as a person's weight (in pounds)\n",
        "times 720, divided by the square of the person's height (in inches). A BMI\n",
        "in the range 19-25, inclusive, is considered healthy. Write a program that\n",
        "calculates a person's BMI and prints a message telling whether they are\n",
        "above, within, or below the healthy range."
      ]
    },
    {
      "cell_type": "code",
      "metadata": {
        "id": "HRvIbGcJgRtw",
        "colab_type": "code",
        "colab": {
          "base_uri": "https://localhost:8080/",
          "height": 87
        },
        "outputId": "845495d8-b7af-4518-ad67-3249163feb19"
      },
      "source": [
        "print(\"BMI Calculator\")\n",
        "weight = float(input(\"What is your weight(in pounds): \"))\n",
        "height = float(input(\"What is your hight(in inches): \"))\n",
        "BMI = (weight * 720) / (height * height)\n",
        "if BMI < 19:\n",
        "    show = \"You are 'BELOW' of the healthy range\"\n",
        "elif BMI > 25:\n",
        "    show = \"You are 'ABOVE' of the healthy range\"\n",
        "else:\n",
        "    show = \"You are 'WITHIN' the healthy range\"\n",
        "print(\"Your BMI is: \", BMI, show)"
      ],
      "execution_count": 1,
      "outputs": [
        {
          "output_type": "stream",
          "text": [
            "BMI Calculator\n",
            "What is your weight(in pounds): 125.5\n",
            "What is your hight(in inches): 70\n",
            "Your BMI is:  18.440816326530612 You are 'BELOW' of the healthy range\n"
          ],
          "name": "stdout"
        }
      ]
    }
  ]
}