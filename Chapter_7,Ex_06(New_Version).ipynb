{
  "nbformat": 4,
  "nbformat_minor": 0,
  "metadata": {
    "colab": {
      "name": "Chapter-7,Ex-06(New Version).ipynb",
      "provenance": [],
      "include_colab_link": true
    },
    "kernelspec": {
      "name": "python3",
      "display_name": "Python 3"
    }
  },
  "cells": [
    {
      "cell_type": "markdown",
      "metadata": {
        "id": "view-in-github",
        "colab_type": "text"
      },
      "source": [
        "<a href=\"https://colab.research.google.com/github/MdNaeemurRahman/Naeem/blob/master/Chapter_7%2CEx_06(New_Version).ipynb\" target=\"_parent\"><img src=\"https://colab.research.google.com/assets/colab-badge.svg\" alt=\"Open In Colab\"/></a>"
      ]
    },
    {
      "cell_type": "markdown",
      "metadata": {
        "id": "IRyVtcBccs_h",
        "colab_type": "text"
      },
      "source": [
        "The speeding ticket fine policy in Podunksville is \\$50 plus \\$5 for each mph\n",
        "over the limit plus a penalty of $200 for any speed over 90 mph. Write a\n",
        "program that accepts a speed limit and a clocked speed and either prints\n",
        "a message indicating the speed was legal or prints the amount of the fine,\n",
        "if the speed is illegal"
      ]
    },
    {
      "cell_type": "code",
      "metadata": {
        "id": "jb17sJa8c3nC",
        "colab_type": "code",
        "colab": {
          "base_uri": "https://localhost:8080/",
          "height": 105
        },
        "outputId": "2b877c42-a790-4f4f-99cc-09e61fab8242"
      },
      "source": [
        "print(\"Speeding Ticket Indicator\")\n",
        "speed_limit = int(input(\"What is the speed limit: \"))\n",
        "clocked_speed = int(input(\"What is your clocked speed: \"))\n",
        "if speed_limit > clocked_speed:\n",
        "    print(\"Your speed was legal\")\n",
        "elif clocked_speed > 90:\n",
        "    print(\"Your speed was illegal\")\n",
        "    fine = (clocked_speed - speed_limit) * 5 + (50+200)\n",
        "else:\n",
        "    print(\"Your speed was illegal\")\n",
        "    fine = (clocked_speed - speed_limit) * 5 + 50\n",
        "print(\"Your fine is: $\", fine)"
      ],
      "execution_count": 2,
      "outputs": [
        {
          "output_type": "stream",
          "text": [
            "Speeding Ticket Indicator\n",
            "What is the speed limit: 60\n",
            "What is your clocked speed: 80\n",
            "Your speed was illegal\n",
            "Your fine is: $ 150\n"
          ],
          "name": "stdout"
        }
      ]
    }
  ]
}