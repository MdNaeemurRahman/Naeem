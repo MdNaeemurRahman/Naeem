{
  "nbformat": 4,
  "nbformat_minor": 0,
  "metadata": {
    "colab": {
      "name": "Chapter-7, Exercise-03.ipynb",
      "provenance": [],
      "collapsed_sections": [],
      "include_colab_link": true
    },
    "kernelspec": {
      "name": "python3",
      "display_name": "Python 3"
    }
  },
  "cells": [
    {
      "cell_type": "markdown",
      "metadata": {
        "id": "view-in-github",
        "colab_type": "text"
      },
      "source": [
        "<a href=\"https://colab.research.google.com/github/MdNaeemurRahman/Naeem/blob/master/Chapter_7%2C_Exercise_03.ipynb\" target=\"_parent\"><img src=\"https://colab.research.google.com/assets/colab-badge.svg\" alt=\"Open In Colab\"/></a>"
      ]
    },
    {
      "cell_type": "code",
      "metadata": {
        "id": "9qb7vGJjFSXY",
        "colab_type": "code",
        "colab": {
          "base_uri": "https://localhost:8080/",
          "height": 68
        },
        "outputId": "ed585b07-2a7b-44aa-d966-6c4f1fa52c64"
      },
      "source": [
        "    print(\"Exam grade calculator \")\n",
        "    score = int(input(\"Enter exam score: \"))\n",
        "    if score >= 90:\n",
        "      grade = \"A\"\n",
        "    elif score >= 80:\n",
        "      grade = \"B\"\n",
        "    elif score >= 70:\n",
        "      grade = \"C\"\n",
        "    elif score >= 60:\n",
        "      grade = \"D\"\n",
        "    else:\n",
        "      grade = \"F\"\n",
        "        \n",
        "    print(\"Your grade is {0}.\". format(grade))"
      ],
      "execution_count": 15,
      "outputs": [
        {
          "output_type": "stream",
          "text": [
            "Exam grade calculator \n",
            "Enter exam score: 97\n",
            "Your grade is A.\n"
          ],
          "name": "stdout"
        }
      ]
    },
    {
      "cell_type": "code",
      "metadata": {
        "id": "bNZ3tH72EiqC",
        "colab_type": "code",
        "colab": {},
        "cellView": "code"
      },
      "source": [
        "#@markdown Pseudocode\n",
        "# Input the score\n",
        "# if it is between 90 to 100  then show Grade \"A\"\n",
        "# if it is between 80 to 89 then show Grade \"B\"\n",
        "# if it is between 70 to 79 then show Grade \"C\"\n",
        "# if it is between 60 to 69 then show Grade \"D\"\n",
        "# Otherwise show Grade \"F\" \n",
        "# Print the Grade\n"
      ],
      "execution_count": 0,
      "outputs": []
    },
    {
      "cell_type": "markdown",
      "metadata": {
        "id": "hsmEDKG-IV4G",
        "colab_type": "text"
      },
      "source": [
        "FlowChart\n",
        "\n",
        "![alt text](https://drive.google.com/uc?id=1mHavqTO-PhnnCTlH0IfzWJzuwlreGtNc)"
      ]
    }
  ]
}