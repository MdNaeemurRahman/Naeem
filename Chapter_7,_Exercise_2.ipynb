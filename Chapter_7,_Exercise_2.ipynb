{
  "nbformat": 4,
  "nbformat_minor": 0,
  "metadata": {
    "colab": {
      "name": "Chapter-7, Exercise-2.ipynb",
      "provenance": [],
      "collapsed_sections": [],
      "include_colab_link": true
    },
    "kernelspec": {
      "name": "python3",
      "display_name": "Python 3"
    }
  },
  "cells": [
    {
      "cell_type": "markdown",
      "metadata": {
        "id": "view-in-github",
        "colab_type": "text"
      },
      "source": [
        "<a href=\"https://colab.research.google.com/github/MdNaeemurRahman/Naeem/blob/master/Chapter_7%2C_Exercise_2.ipynb\" target=\"_parent\"><img src=\"https://colab.research.google.com/assets/colab-badge.svg\" alt=\"Open In Colab\"/></a>"
      ]
    },
    {
      "cell_type": "code",
      "metadata": {
        "id": "0mHSOsrl_4yW",
        "colab_type": "code",
        "outputId": "f6965987-55bd-4cb1-8f3f-ed574e33df9a",
        "colab": {
          "base_uri": "https://localhost:8080/",
          "height": 68
        }
      },
      "source": [
        "print(\"Quiz grade calculator\")\n",
        "score = int(input(\"Enter Quiz Score: \"))\n",
        "if score == 5:\n",
        "  grade = \"A\"\n",
        "elif score == 4:\n",
        "  grade = \"B\"\n",
        "elif score == 3:\n",
        "  grade = \"c\"\n",
        "elif score == 2:\n",
        "  grade = \"D\"\n",
        "else:\n",
        "  grade = \"F\"\n",
        "print(\"Your grade is {0}.\". format(grade))"
      ],
      "execution_count": 0,
      "outputs": [
        {
          "output_type": "stream",
          "text": [
            "Quiz grade calculator\n",
            "Enter Quiz Score: 5\n",
            "Your grade is A.\n"
          ],
          "name": "stdout"
        }
      ]
    },
    {
      "cell_type": "code",
      "metadata": {
        "id": "bBtMW1rZ_6yV",
        "colab_type": "code",
        "colab": {},
        "cellView": "code"
      },
      "source": [
        "#@markdown \n",
        "#Pseudocode\n",
        "# Input the score\n",
        "# if it is 5 show Grade \"A\"\n",
        "# if it is 4 show Grade \"B\"\n",
        "# if it is 3 show Grade \"C\"\n",
        "# if it is 2 show Grade \"D\"\n",
        "# if it is 0,1 show Grade \"F\" \n",
        "# Print the Grade\n"
      ],
      "execution_count": 0,
      "outputs": []
    },
    {
      "cell_type": "markdown",
      "metadata": {
        "id": "NUsFgPVRBbU2",
        "colab_type": "text"
      },
      "source": [
        "FlowChart\n",
        "\n",
        "![alt text](https://drive.google.com/uc?id=1hpVou6tM4xTUmRg4WJ4aiT28bo4Sxtkn)"
      ]
    }
  ]
}