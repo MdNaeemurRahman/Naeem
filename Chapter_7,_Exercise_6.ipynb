{
  "nbformat": 4,
  "nbformat_minor": 0,
  "metadata": {
    "colab": {
      "name": "Chapter-7, Exercise-6.ipynb",
      "provenance": [],
      "collapsed_sections": [],
      "include_colab_link": true
    },
    "kernelspec": {
      "name": "python3",
      "display_name": "Python 3"
    }
  },
  "cells": [
    {
      "cell_type": "markdown",
      "metadata": {
        "id": "view-in-github",
        "colab_type": "text"
      },
      "source": [
        "<a href=\"https://colab.research.google.com/github/MdNaeemurRahman/Naeem/blob/master/Chapter_7%2C_Exercise_6.ipynb\" target=\"_parent\"><img src=\"https://colab.research.google.com/assets/colab-badge.svg\" alt=\"Open In Colab\"/></a>"
      ]
    },
    {
      "cell_type": "code",
      "metadata": {
        "id": "IPuyMRGWleLU",
        "colab_type": "code",
        "outputId": "cf98a2eb-6d7b-4d71-e2bb-c34fa0d25700",
        "colab": {
          "base_uri": "https://localhost:8080/",
          "height": 85
        }
      },
      "source": [
        "print(\"Speeding Ticket Fine Calculator\")\n",
        "speed_limit = int(input(\"Enter the speed limt: \"))\n",
        "clocked_speed = int(input(\"Enter the speed: \"))\n",
        "if clocked_speed <= speed_limit:\n",
        "  print(\"Your speed is legal\")\n",
        "elif clocked_speed > 90:\n",
        "  Over_speed_penalty = (200 + 50 + (clocked_speed - speed_limit) * 5)\n",
        "  print(\"Your over speed penalty ${0}.\".format(Over_speed_penalty))\n",
        "else:\n",
        "  Over_speed_penalty = (50 + (clocked_speed - speed_limit) * 5)\n",
        "  print(\"Your over speed penalty ${0}.\".format(Over_speed_penalty))"
      ],
      "execution_count": 0,
      "outputs": [
        {
          "output_type": "stream",
          "text": [
            "Speeding Ticket Fine Calculator\n",
            "Enter the speed limt: 60\n",
            "Enter the speed: 70\n",
            "Your over speed penalty $100.\n"
          ],
          "name": "stdout"
        }
      ]
    },
    {
      "cell_type": "code",
      "metadata": {
        "id": "nfiJwv1Zym46",
        "colab_type": "code",
        "cellView": "code",
        "colab": {}
      },
      "source": [
        "#@markdown Pseudocode\n",
        "# Speeding Ticket Fine Calculator\n",
        "# Input Speed limit and Clocked speed\n",
        "# if clocked speed <= speed limit , show speed is legal\n",
        "# if speed is over 90 make 50 + (clocked_speed - speed_limit) * 5) + 200 penalty\n",
        "# else make over speed penalty 50 + (clocked_speed - speed_limit) * 5"
      ],
      "execution_count": 0,
      "outputs": []
    },
    {
      "cell_type": "code",
      "metadata": {
        "id": "VP0Y3PPbmhT7",
        "colab_type": "code",
        "colab": {}
      },
      "source": [
        ""
      ],
      "execution_count": 0,
      "outputs": []
    },
    {
      "cell_type": "markdown",
      "metadata": {
        "id": "C-qEMuf-Hc5T",
        "colab_type": "text"
      },
      "source": [
        "Flow_Chart\n",
        "\n",
        "![alt text](https://drive.google.com/uc?id=1Vqc-WNprDNl_49q_4zkI76TQA5JUby-6)"
      ]
    }
  ]
}