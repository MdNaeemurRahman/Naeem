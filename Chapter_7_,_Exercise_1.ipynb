{
  "nbformat": 4,
  "nbformat_minor": 0,
  "metadata": {
    "colab": {
      "name": "Chapter-7 , Exercise-1.ipynb",
      "provenance": [],
      "collapsed_sections": [],
      "include_colab_link": true
    },
    "kernelspec": {
      "name": "python3",
      "display_name": "Python 3"
    }
  },
  "cells": [
    {
      "cell_type": "markdown",
      "metadata": {
        "id": "view-in-github",
        "colab_type": "text"
      },
      "source": [
        "<a href=\"https://colab.research.google.com/github/MdNaeemurRahman/Naeem/blob/master/Chapter_7_%2C_Exercise_1.ipynb\" target=\"_parent\"><img src=\"https://colab.research.google.com/assets/colab-badge.svg\" alt=\"Open In Colab\"/></a>"
      ]
    },
    {
      "cell_type": "code",
      "metadata": {
        "id": "thx93SLvmp_8",
        "colab_type": "code",
        "colab": {
          "base_uri": "https://localhost:8080/",
          "height": 85
        },
        "outputId": "21604bfe-4bef-4a16-c473-bc5ea5b3161a"
      },
      "source": [
        "    print(\"Wage Calculator\")\n",
        "    hours = eval(input(\"Please enter your hours worked: \"))\n",
        "    rate = eval(input(\"Please enter your hourly rate: \")) \n",
        "\n",
        "    if hours <= 40:\n",
        "        pay = hours * rate\n",
        "        print(\"You earn ${0:0.2f}.\".format(pay))\n",
        "    else:\n",
        "        pay = (40 * rate) + ((hours - 40) * (rate * 1.5))\n",
        "        print(\"With your over time, You earn ${0:0.2f}.\".format(pay))"
      ],
      "execution_count": 21,
      "outputs": [
        {
          "output_type": "stream",
          "text": [
            "Wage Calculator\n",
            "Please enter your hours worked: 60\n",
            "Please enter your hourly rate: 5\n",
            "With your over time, You earn $350.00.\n"
          ],
          "name": "stdout"
        }
      ]
    },
    {
      "cell_type": "code",
      "metadata": {
        "id": "uxoWF0s61WcW",
        "colab_type": "code",
        "colab": {},
        "cellView": "code"
      },
      "source": [
        "#@markdown Pseudocode\n",
        "\n",
        "#    Print Name of the Program\n",
        "#    Ask for how many hours worked this week \n",
        "#    and how much the hourly pay rate is\n",
        "#    If the number of hours worked is 40 or less:\n",
        "#        Calculate pay = hours * pay_rate\n",
        "#    else \n",
        "#        # Calculate normal pay for first 40 hours, and time-and-a-half for extra hours\n",
        "#        Calculate pay = (40 * pay_rate) + ((hours - 40) * 1.5 * (pay_rate))\n"
      ],
      "execution_count": 0,
      "outputs": []
    },
    {
      "cell_type": "markdown",
      "metadata": {
        "id": "uCzIc4iRHAhO",
        "colab_type": "text"
      },
      "source": [
        "Flowchart\n",
        "\n",
        "![alt text](https://drive.google.com/uc?id=1ezakmUWlrJxD4MX3x-zxSfL-QY5mZw7S)"
      ]
    }
  ]
}