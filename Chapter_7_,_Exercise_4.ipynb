{
  "nbformat": 4,
  "nbformat_minor": 0,
  "metadata": {
    "colab": {
      "name": "Chapter 7 , Exercise-4.ipynb",
      "provenance": [],
      "collapsed_sections": [],
      "include_colab_link": true
    },
    "kernelspec": {
      "name": "python3",
      "display_name": "Python 3"
    }
  },
  "cells": [
    {
      "cell_type": "markdown",
      "metadata": {
        "id": "view-in-github",
        "colab_type": "text"
      },
      "source": [
        "<a href=\"https://colab.research.google.com/github/MdNaeemurRahman/Naeem/blob/master/Chapter_7_%2C_Exercise_4.ipynb\" target=\"_parent\"><img src=\"https://colab.research.google.com/assets/colab-badge.svg\" alt=\"Open In Colab\"/></a>"
      ]
    },
    {
      "cell_type": "code",
      "metadata": {
        "id": "2GiwzF2gNMUQ",
        "colab_type": "code",
        "colab": {
          "base_uri": "https://localhost:8080/",
          "height": 68
        },
        "outputId": "5050cf70-8694-46da-d89c-1451f41f7f86"
      },
      "source": [
        "    print(\"Class standing calculator \")\n",
        "    credits = int(input(\"Enter number of credits: \"))\n",
        "    if credits >= 7:\n",
        "        standing = \"sophomore\"\n",
        "    elif credits >= 16:\n",
        "        standing = \"junior\"\n",
        "    elif credits >= 26:\n",
        "        standing = \"senior\"  \n",
        "    else:\n",
        "        standing = \"freshman\"\n",
        "    print(\"The class standing is {0}.\". format(standing))"
      ],
      "execution_count": 2,
      "outputs": [
        {
          "output_type": "stream",
          "text": [
            "Class standing calculator \n",
            "Enter number of credits: 15\n",
            "The class standing is sophomore.\n"
          ],
          "name": "stdout"
        }
      ]
    },
    {
      "cell_type": "code",
      "metadata": {
        "id": "MjGpifbrRoLz",
        "colab_type": "code",
        "colab": {},
        "cellView": "code"
      },
      "source": [
        "#@markdown Pseudocode\n",
        "\n",
        "# Input the credits\n",
        "# if competed credit is between 7 to 15  then standing for Sophomore\n",
        "# if competed credit is between 16 to 25  then standing for Junior\n",
        "# if competed credit is 26 or more  then standing for Senior\n",
        "# Otherwise standing for Freshman, who have completed less tahn 7 credit\n",
        "# Print Standing for result"
      ],
      "execution_count": 0,
      "outputs": []
    },
    {
      "cell_type": "markdown",
      "metadata": {
        "id": "KQXh4DfdTMH8",
        "colab_type": "text"
      },
      "source": [
        "FlowChart\n",
        "\n",
        "![alt text](https://drive.google.com/uc?id=1zc4YNGzTWFiIs82zRze9dDe5lH3h4VsS)"
      ]
    }
  ]
}