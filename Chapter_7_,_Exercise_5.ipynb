{
  "nbformat": 4,
  "nbformat_minor": 0,
  "metadata": {
    "colab": {
      "name": "Chapter-7 , Exercise:5.ipynb",
      "provenance": [],
      "collapsed_sections": [],
      "include_colab_link": true
    },
    "kernelspec": {
      "name": "python3",
      "display_name": "Python 3"
    }
  },
  "cells": [
    {
      "cell_type": "markdown",
      "metadata": {
        "id": "view-in-github",
        "colab_type": "text"
      },
      "source": [
        "<a href=\"https://colab.research.google.com/github/MdNaeemurRahman/Naeem/blob/master/Chapter_7_%2C_Exercise_5.ipynb\" target=\"_parent\"><img src=\"https://colab.research.google.com/assets/colab-badge.svg\" alt=\"Open In Colab\"/></a>"
      ]
    },
    {
      "cell_type": "code",
      "metadata": {
        "id": "T16qGRYejn8r",
        "colab_type": "code",
        "colab": {
          "base_uri": "https://localhost:8080/",
          "height": 102
        },
        "outputId": "40f5be8f-0c12-47e9-9e74-891f3bb21d92"
      },
      "source": [
        "print(\"BMI Calculator\")\n",
        "Weight = float(input(\"Your weight in lbs: \"))\n",
        "Hight = float(input(\"Your Hight in inche: \"))\n",
        "BMI = ((Weight * 720) / (Hight * Hight))\n",
        "print(\"Your BMI is {0}.\". format(BMI))\n",
        "if BMI < 19:\n",
        "  print(\"You are Underweight\")\n",
        "elif BMI <= 25:\n",
        "  print(\"You are Healthy\")\n",
        "else:\n",
        "  Print(\"You are Overweight\")"
      ],
      "execution_count": 14,
      "outputs": [
        {
          "output_type": "stream",
          "text": [
            "BMI Calculator\n",
            "Your weight in lbs: 121.2\n",
            "Your Hight in inche: 70\n",
            "Your BMI is 17.808979591836735.\n",
            "You are Underweight\n"
          ],
          "name": "stdout"
        }
      ]
    },
    {
      "cell_type": "code",
      "metadata": {
        "id": "LaevWVgqwP23",
        "colab_type": "code",
        "colab": {}
      },
      "source": [
        ""
      ],
      "execution_count": 0,
      "outputs": []
    },
    {
      "cell_type": "code",
      "metadata": {
        "id": "gR_u8pjXurkt",
        "colab_type": "code",
        "colab": {},
        "cellView": "code"
      },
      "source": [
        "#@markdown Pseudocode\n",
        "\n",
        "# Input the weight and hight\n",
        "# Calculate BMI = weight * 720 / Hight**2\n",
        "# print BMI result\n",
        "# if it is < 19 , show that You are underweight\n",
        "# if it is <=25 , show that You are Healthy\n",
        "# Otherwise show that you are overweight"
      ],
      "execution_count": 0,
      "outputs": []
    },
    {
      "cell_type": "markdown",
      "metadata": {
        "id": "h2Umh5OYvg0u",
        "colab_type": "text"
      },
      "source": [
        "FlowChart\n",
        "\n",
        "![alt text](https://drive.google.com/uc?id=1wEg4blrj5KDJcYdoNJDZWn1Csp_UoLVG)"
      ]
    }
  ]
}