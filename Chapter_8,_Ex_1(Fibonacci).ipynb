{
  "nbformat": 4,
  "nbformat_minor": 0,
  "metadata": {
    "colab": {
      "name": "Chapter-8, Ex-1(Fibonacci).ipynb",
      "provenance": [],
      "include_colab_link": true
    },
    "kernelspec": {
      "name": "python3",
      "display_name": "Python 3"
    }
  },
  "cells": [
    {
      "cell_type": "markdown",
      "metadata": {
        "id": "view-in-github",
        "colab_type": "text"
      },
      "source": [
        "<a href=\"https://colab.research.google.com/github/MdNaeemurRahman/Naeem/blob/master/Chapter_8%2C_Ex_1(Fibonacci).ipynb\" target=\"_parent\"><img src=\"https://colab.research.google.com/assets/colab-badge.svg\" alt=\"Open In Colab\"/></a>"
      ]
    },
    {
      "cell_type": "markdown",
      "metadata": {
        "id": "jQOTyDOIMyDJ",
        "colab_type": "text"
      },
      "source": [
        "![alt text](https://drive.google.com/uc?id=1HKIQVXVS6aUWaAt5_UjikrYWDY8BD09_)"
      ]
    },
    {
      "cell_type": "code",
      "metadata": {
        "id": "OA3AubMBM7UM",
        "colab_type": "code",
        "colab": {}
      },
      "source": [
        "a=int(input(\"Enter how many terms: \"))\n",
        "f=0  #first element of series\n",
        "s=1  #second element of series\n",
        "counter = 0\n",
        "if a==0 or a==1:\n",
        "    print(\"The requested series is\",f)\n",
        "elif a < 0:\n",
        "    print(\"Please Enter the positive number\")\n",
        "else:\n",
        "    print(\"Fibonacci sequence:\")\n",
        "    while counter < a:\n",
        "        print(f)\n",
        "        nth = f + s\n",
        "        f = s\n",
        "        s = nth\n",
        "        counter = counter + 1"
      ],
      "execution_count": 0,
      "outputs": []
    }
  ]
}