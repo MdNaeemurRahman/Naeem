{
  "nbformat": 4,
  "nbformat_minor": 0,
  "metadata": {
    "colab": {
      "name": "Fibonacci(Ch-08,ex-01).pynb",
      "provenance": [],
      "collapsed_sections": [],
      "include_colab_link": true
    },
    "kernelspec": {
      "name": "python3",
      "display_name": "Python 3"
    }
  },
  "cells": [
    {
      "cell_type": "markdown",
      "metadata": {
        "id": "view-in-github",
        "colab_type": "text"
      },
      "source": [
        "<a href=\"https://colab.research.google.com/github/MdNaeemurRahman/Naeem/blob/master/Fibonacci(Ch_08%2Cex_01)_pynb.ipynb\" target=\"_parent\"><img src=\"https://colab.research.google.com/assets/colab-badge.svg\" alt=\"Open In Colab\"/></a>"
      ]
    },
    {
      "cell_type": "markdown",
      "metadata": {
        "id": "GajRRfgQK_h9",
        "colab_type": "text"
      },
      "source": [
        "Exercise 1: The Fibonacci sequence starts 1, 1, 2, 3, 5, 8, . . . Each number in the sequence (after the first two) is the sum of the previous two. Write a program that computes and outputs the nth Fibonacci number, where n is a value entered by the user. $ F_n = F_{n-1} + F_{n-2} $, whereas $ F_0 = F_1 = 1 $"
      ]
    },
    {
      "cell_type": "markdown",
      "metadata": {
        "id": "r2I3BooCLDbs",
        "colab_type": "text"
      },
      "source": [
        "![alt text](https://drive.google.com/uc?id=1YlkZl4GKadQ4PJVN201ME3pX05pARZfk)"
      ]
    },
    {
      "cell_type": "code",
      "metadata": {
        "id": "EpXr9PMzK_1L",
        "colab_type": "code",
        "colab": {
          "base_uri": "https://localhost:8080/",
          "height": 212
        },
        "outputId": "e623055d-c96c-4d3d-a50c-4a83dc8ecab8"
      },
      "source": [
        "n=int(input(\"Enter how many terms n = \"))\n",
        "f1=0 \n",
        "f2=1  \n",
        "counter = 0\n",
        "if n==0 or n==1:\n",
        "    print(\"The requested series is\",f1)\n",
        "elif n < 0:\n",
        "    print(\"Please Enter the positive number\")\n",
        "else:\n",
        "    print(\"Fibonacci sequence:\")\n",
        "    while counter < n:\n",
        "        print(f1)\n",
        "        nth = f1 + f2\n",
        "        f1 = f2\n",
        "        f2 = nth\n",
        "        counter = counter + 1\n",
        "print(\"Sum of this (n)th sequence is: \", (f2-1))\n",
        "# Just from my curiosity i added this line to see if it works or not . i didn't added this line in flowchart!"
      ],
      "execution_count": 16,
      "outputs": [
        {
          "output_type": "stream",
          "text": [
            "Enter how many terms n = 8\n",
            "Fibonacci sequence:\n",
            "0\n",
            "1\n",
            "1\n",
            "2\n",
            "3\n",
            "5\n",
            "8\n",
            "13\n",
            "Sum of this (n)th sequence is:  33\n"
          ],
          "name": "stdout"
        }
      ]
    }
  ]
}